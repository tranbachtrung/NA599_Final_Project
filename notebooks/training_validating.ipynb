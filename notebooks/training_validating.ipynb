{
 "cells": [
  {
   "cell_type": "code",
   "execution_count": null,
   "metadata": {},
   "outputs": [],
   "source": [
    "import sys\n",
    "import os\n",
    "\n",
    "# Add parent directory to the system path\n",
    "sys.path.append(os.path.abspath(os.path.join(os.getcwd(), os.pardir)))\n",
    "\n",
    "# Import the module\n",
    "import scripts.models as models\n",
    "from scripts.models import GraphDataset\n",
    "from torch_geometric.loader import DataLoader"
   ]
  },
  {
   "cell_type": "markdown",
   "metadata": {},
   "source": [
    "# Model Training"
   ]
  },
  {
   "cell_type": "code",
   "execution_count": null,
   "metadata": {},
   "outputs": [],
   "source": [
    "# The parameters of dataset ---\n",
    "data_name = 'METR-LA' # or 'PEMS-BAY'\n",
    "T_past = 6 # number of time-steps for node-level features # ONLY USE ONE VALUE\n",
    "# T_future = [1, 3, 6, 12, 24, 48, 72, 96, 120, 144] # number of time-steps for node-level outputs # CAN BE A LIST OF VALUES FOR WARM STARTING\n",
    "T_future = [1, 3, 6, 12, 24, 48] # number of time-steps for node-level outputs # CAN BE A LIST OF VALUES FOR WARM STARTING\n",
    "T_future = [12] # number of time-steps for node-level outputs # CAN BE A LIST OF VALUES FOR WARM STARTING\n",
    "include_t = True\n",
    "\n",
    "# Preloading trained model ---\n",
    "preload = False\n",
    "preload_folder = 'include_t_True_T_past_3_T_future_1'\n",
    "preload_model_name = 'epoch_188.pt'\n",
    "\n",
    "# GNN hyperparameters ---\n",
    "GNN_class = 'GNN5'\n",
    "hidden_channels = 8 # number of hidden channels\n",
    "num_layers = 3 # number of hidden channels\n",
    "patience = 70  # patience (int): # number of epochs to wait before early stopping\n",
    "# overfit_ratio (float): the ratio between val_loss/train_loss to indicate overfitting\n",
    "# Note that the loss is in MSE, meaning that to get the orginal unit, we need to square \n",
    "# Eg. overfit_ratio = 2.25 is equivalent to overfit_ratio = sqrt(2.25) = 1.5 in the original unit\n",
    "overfit_ratio = [0.25, 2.25]\n",
    "\n",
    "# Scheduler ---\n",
    "lr = 0.001 # lr (float): initial learning rate for Adam optimizer (typical value)\n",
    "scheduler_mode = 'min' # scheduler_mode (str): One of `min`, `max`. In `min` mode, learning rate will be reduced when the quantity monitored has stopped decreasing; in `max` mode it will be reduced when the quantity monitored has stopped increasing.\n",
    "scheduler_factor = 0.9 # scheduler_factor (float): Factor by which the learning rate will be reduced. new_lr = lr * factor\n",
    "scheduler_patience = 15 # scheduler_patience (int): Number of epochs with no improvement after which learning rate will be reduced.\n",
    "max_epoch = 10000"
   ]
  },
  {
   "cell_type": "code",
   "execution_count": null,
   "metadata": {},
   "outputs": [],
   "source": [
    "params = {}\n",
    "\n",
    "params['data_name'] = data_name\n",
    "params['T_past'] = T_past\n",
    "params['T_future'] = T_future\n",
    "params['include_t'] = include_t\n",
    "\n",
    "params['preload'] = preload\n",
    "params['preload_folder'] = preload_folder\n",
    "params['preload_model_name'] = preload_model_name\n",
    "\n",
    "params['GNN_class'] = GNN_class\n",
    "params['hidden_channels'] = hidden_channels\n",
    "params['num_layers'] = num_layers\n",
    "params['patience'] = patience\n",
    "params['overfit_ratio'] = overfit_ratio\n",
    "\n",
    "params['lr'] = lr\n",
    "params['scheduler_mode'] = scheduler_mode\n",
    "params['scheduler_factor'] = scheduler_factor\n",
    "params['scheduler_patience'] = scheduler_patience\n",
    "params['max_epoch'] = max_epoch"
   ]
  },
  {
   "cell_type": "code",
   "execution_count": null,
   "metadata": {},
   "outputs": [],
   "source": [
    "models.train_val_test(params)"
   ]
  },
  {
   "cell_type": "code",
   "execution_count": null,
   "metadata": {},
   "outputs": [],
   "source": []
  },
  {
   "cell_type": "code",
   "execution_count": null,
   "metadata": {},
   "outputs": [],
   "source": []
  },
  {
   "cell_type": "code",
   "execution_count": null,
   "metadata": {},
   "outputs": [],
   "source": []
  },
  {
   "cell_type": "code",
   "execution_count": null,
   "metadata": {},
   "outputs": [],
   "source": []
  },
  {
   "cell_type": "code",
   "execution_count": null,
   "metadata": {},
   "outputs": [],
   "source": []
  }
 ],
 "metadata": {
  "kernelspec": {
   "display_name": "GNN_project",
   "language": "python",
   "name": "python3"
  },
  "language_info": {
   "codemirror_mode": {
    "name": "ipython",
    "version": 3
   },
   "file_extension": ".py",
   "mimetype": "text/x-python",
   "name": "python",
   "nbconvert_exporter": "python",
   "pygments_lexer": "ipython3",
   "version": "3.12.7"
  }
 },
 "nbformat": 4,
 "nbformat_minor": 2
}
