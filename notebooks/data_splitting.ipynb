{
 "cells": [
  {
   "cell_type": "code",
   "execution_count": null,
   "metadata": {},
   "outputs": [],
   "source": [
    "import sys\n",
    "import os\n",
    "\n",
    "# Add parent directory to the system path\n",
    "sys.path.append(os.path.abspath(os.path.join(os.getcwd(), os.pardir)))\n",
    "\n",
    "# Import the module\n",
    "import scripts.utils as utils"
   ]
  },
  {
   "cell_type": "markdown",
   "metadata": {},
   "source": [
    "# Control Board"
   ]
  },
  {
   "cell_type": "code",
   "execution_count": null,
   "metadata": {},
   "outputs": [],
   "source": [
    "# The data set used\n",
    "data_name = 'METR-LA' # or 'PEMS-BAY'\n",
    "\n",
    "# Number of nodes used for GNN\n",
    "n_nodes = 20 # use 207 for full ('METR-LA'); use ### for full ('PEMS-BAY')\n",
    "data_ratio = 0.1 # the ratio of total data used for training, validation, and testing\n",
    "kappa = 0.2 #cutoff tresh-hold\n",
    "\n",
    "# Data usage ratio\n",
    "train_ratio = 0.7 # ratio of the data*data_ratio\n",
    "val_ratio = 0.2\n",
    "test_ratio = 0.1\n",
    "\n",
    "# Number of data points\n",
    "# T_past = [1, 3, 6, 12] # number of time-steps for node-level features\n",
    "T_past = [3, 6] # number of time-steps for node-level features\n",
    "\n",
    "# T_future = [1, 3, 6, 12, 24, 48, 72, 96, 120, 144] # number of time-steps for node-level outputs\n",
    "T_future = [1, 3, 6, 12, 24, 48] # number of time-steps for node-level outputs\n",
    "\n",
    "include_t = True # include time of the day (normalized)"
   ]
  },
  {
   "cell_type": "code",
   "execution_count": null,
   "metadata": {},
   "outputs": [],
   "source": [
    "params = {}\n",
    "params['data_name'] = data_name\n",
    "params['n_nodes'] = n_nodes\n",
    "params['data_ratio'] = data_ratio\n",
    "params['kappa'] = kappa\n",
    "params['train_ratio'] = train_ratio\n",
    "params['val_ratio'] = val_ratio\n",
    "params['test_ratio'] = test_ratio\n",
    "params['T_past'] = T_past\n",
    "params['T_future'] = T_future\n",
    "params['include_t'] = include_t"
   ]
  },
  {
   "cell_type": "markdown",
   "metadata": {},
   "source": [
    "# Data Procuring"
   ]
  },
  {
   "cell_type": "code",
   "execution_count": null,
   "metadata": {},
   "outputs": [],
   "source": [
    "utils.procure_dataset(params)"
   ]
  }
 ],
 "metadata": {
  "kernelspec": {
   "display_name": "GNN_project",
   "language": "python",
   "name": "python3"
  },
  "language_info": {
   "codemirror_mode": {
    "name": "ipython",
    "version": 3
   },
   "file_extension": ".py",
   "mimetype": "text/x-python",
   "name": "python",
   "nbconvert_exporter": "python",
   "pygments_lexer": "ipython3",
   "version": "3.12.7"
  }
 },
 "nbformat": 4,
 "nbformat_minor": 2
}
