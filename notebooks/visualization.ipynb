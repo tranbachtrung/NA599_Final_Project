{
 "cells": [
  {
   "cell_type": "code",
   "execution_count": null,
   "metadata": {},
   "outputs": [],
   "source": [
    "import sys\n",
    "import os\n",
    "\n",
    "# Add parent directory to the system path\n",
    "sys.path.append(os.path.abspath(os.path.join(os.getcwd(), os.pardir)))\n",
    "\n",
    "# Import the module\n",
    "import scripts.models as models\n",
    "from scripts.models import GraphDataset\n",
    "from scripts.models import GNN, GNN2, GNN3, GNN4\n",
    "from torch_geometric.loader import DataLoader\n",
    "import re\n",
    "import torch\n",
    "from scripts.models import validate\n",
    "import numpy as np\n",
    "from scripts.models import obtain_data_path\n",
    "import matplotlib.pyplot as plt"
   ]
  },
  {
   "cell_type": "markdown",
   "metadata": {},
   "source": [
    "# Visualization"
   ]
  },
  {
   "cell_type": "markdown",
   "metadata": {},
   "source": [
    "Control Board"
   ]
  },
  {
   "cell_type": "code",
   "execution_count": null,
   "metadata": {},
   "outputs": [],
   "source": [
    "# The parameters of dataset ---\n",
    "data_name = 'METR-LA' # or 'PEMS-BAY'\n",
    "n_nodes = 20\n",
    "\n",
    "# GNN hyperparameters ---\n",
    "GNN_class = 'GNN2'\n",
    "hidden_channels = 8 # number of hidden channels\n",
    "num_layers = 4 # number of hidden channels\n",
    "\n",
    "# Chosen visualization ---\n",
    "folder_name = 'archive_GNN2_MA6/include_t_True_T_past_6_T_future_12'\n",
    "file_name = 'epoch_1.pt'\n"
   ]
  },
  {
   "cell_type": "markdown",
   "metadata": {},
   "source": [
    "Code"
   ]
  },
  {
   "cell_type": "code",
   "execution_count": null,
   "metadata": {},
   "outputs": [],
   "source": [
    "# Get parent folder path\n",
    "current_folder_path = os.getcwd() # Get the current folder path\n",
    "parent_folder_path = os.path.dirname(current_folder_path) # Get the parent folder path"
   ]
  },
  {
   "cell_type": "code",
   "execution_count": null,
   "metadata": {},
   "outputs": [],
   "source": [
    "selected_model_path = parent_folder_path + f'/models/{data_name}/{folder_name}/{file_name}' "
   ]
  },
  {
   "cell_type": "code",
   "execution_count": null,
   "metadata": {},
   "outputs": [],
   "source": [
    "def extract_params_from_folder_name(folder_name):\n",
    "    match = re.search(r'include_t_(True|False)_T_past_(\\d+)_T_future_(\\d+)', folder_name)\n",
    "    if match:\n",
    "        include_t = match.group(1) == 'True'\n",
    "        T_past = int(match.group(2))\n",
    "        T_future = int(match.group(3))\n",
    "        return include_t, T_past, T_future\n",
    "    return None, None, None"
   ]
  },
  {
   "cell_type": "code",
   "execution_count": null,
   "metadata": {},
   "outputs": [],
   "source": [
    "# Setting up the model\n",
    "include_t, T_past, T_future = extract_params_from_folder_name(folder_name)\n",
    "\n",
    "# Setting up the model\n",
    "if GNN_class == \"GNN\":\n",
    "    if include_t is True:\n",
    "        model = GNN(in_channels = T_past + 1, \n",
    "                hidden_channels = hidden_channels,\n",
    "                num_layers = num_layers,\n",
    "                include_t = include_t)\n",
    "    else:\n",
    "        model = GNN(in_channels = T_past, \n",
    "                hidden_channels = hidden_channels,\n",
    "                num_layers = num_layers,\n",
    "                include_t = include_t)\n",
    "        \n",
    "elif GNN_class == \"GNN2\":\n",
    "    if include_t is True:\n",
    "        model = GNN2(in_channels = T_past + 1, \n",
    "                hidden_channels = hidden_channels,\n",
    "                num_layers = num_layers,\n",
    "                include_t = include_t)\n",
    "    else:\n",
    "        model = GNN2(in_channels = T_past, \n",
    "                hidden_channels = hidden_channels,\n",
    "                num_layers = num_layers,\n",
    "                include_t = include_t)\n",
    "        \n",
    "elif GNN_class == \"GNN3\":\n",
    "    if include_t is True:\n",
    "        model = GNN3(in_channels = T_past + 1, \n",
    "                hidden_channels = hidden_channels,\n",
    "                num_layers = num_layers,\n",
    "                include_t = include_t)\n",
    "    else:\n",
    "        model = GNN3(in_channels = T_past, \n",
    "                hidden_channels = hidden_channels,\n",
    "                num_layers = num_layers,\n",
    "                include_t = include_t)\n",
    "        \n",
    "elif GNN_class == \"GNN4\":\n",
    "        if include_t is True:\n",
    "            model = GNN4(in_channels = T_past + 1, \n",
    "                    hidden_channels = hidden_channels,\n",
    "                    num_layers = num_layers,\n",
    "                    include_t = include_t)\n",
    "        else:\n",
    "            model = GNN4(in_channels = T_past, \n",
    "                    hidden_channels = hidden_channels,\n",
    "                    num_layers = num_layers,\n",
    "                    include_t = include_t)\n",
    "    \n",
    "# Load the parameters\n",
    "model.load_state_dict(torch.load(selected_model_path))"
   ]
  },
  {
   "cell_type": "code",
   "execution_count": null,
   "metadata": {},
   "outputs": [],
   "source": [
    "# Data loader\n",
    "train_path, train_dataset, train_loader, train_loader_viz = obtain_data_path(data_name, T_past, T_future, include_t, name='train')\n",
    "val_path, val_dataset, val_loader, val_loader_viz = obtain_data_path(data_name, T_past, T_future, include_t, name='val')\n",
    "test_path, test_dataset, test_loader, test_loader_viz = obtain_data_path(data_name, T_past, T_future, include_t, name='test')"
   ]
  },
  {
   "cell_type": "markdown",
   "metadata": {},
   "source": [
    "Evaluate the model"
   ]
  },
  {
   "cell_type": "code",
   "execution_count": null,
   "metadata": {},
   "outputs": [],
   "source": [
    "def mae_loss(y_pred, y_true):\n",
    "    return torch.mean(torch.abs(y_pred - y_true))\n",
    "\n",
    "def mape_loss(y_pred, y_true, eps=1e-8):\n",
    "    return torch.mean(torch.abs((y_true - y_pred) / (y_true + eps))) * 100\n",
    "\n",
    "def mse_loss(y_pred, y_true):\n",
    "    return torch.mean((y_pred - y_true)**2)"
   ]
  },
  {
   "cell_type": "code",
   "execution_count": null,
   "metadata": {},
   "outputs": [],
   "source": [
    "# Evaluate the training set\n",
    "train_MSE_loss = validate(model, train_loader, mse_loss)\n",
    "train_MAE_loss = validate(model, train_loader, mae_loss)\n",
    "\n",
    "print(f'Train RMSE: {np.sqrt(train_MSE_loss):.4f} [miles/hr]; Train MAE: {train_MAE_loss:.4f} [miles/hr].')\n",
    "\n",
    "# Evaluate the validation set\n",
    "val_MSE_loss = validate(model, val_loader, mse_loss)\n",
    "val_MAE_loss = validate(model, val_loader, mae_loss)\n",
    "\n",
    "print(f'Val RMSE: {np.sqrt(val_MSE_loss):.4f} [miles/hr]; Val MAE: {val_MAE_loss:.4f} [miles/hr].')\n",
    "\n",
    "# Evaluate the test set\n",
    "test_MSE_loss = validate(model, test_loader, mse_loss)\n",
    "test_MAE_loss = validate(model, test_loader, mae_loss)\n",
    "\n",
    "print(f'Test RMSE: {np.sqrt(test_MSE_loss):.4f} [miles/hr]; Test MAE: {test_MAE_loss:.4f} [miles/hr].')"
   ]
  },
  {
   "cell_type": "markdown",
   "metadata": {},
   "source": [
    "## Visualize testing data:"
   ]
  },
  {
   "cell_type": "code",
   "execution_count": null,
   "metadata": {},
   "outputs": [],
   "source": [
    "chosen_min_ahead = 30"
   ]
  },
  {
   "cell_type": "code",
   "execution_count": null,
   "metadata": {},
   "outputs": [],
   "source": [
    "for idx, data in enumerate(test_loader_viz):\n",
    "    if idx == 0:\n",
    "        true_out = data.y\n",
    "        pred_out = model(data)\n",
    "    else:\n",
    "        true_out = torch.cat((true_out, data.y), dim=0)\n",
    "        pred_out = torch.cat((pred_out, model(data)), dim=0)"
   ]
  },
  {
   "cell_type": "code",
   "execution_count": null,
   "metadata": {},
   "outputs": [],
   "source": [
    "import pandas as pd\n",
    "min_ahead = ['All']\n",
    "rmse_losses = [np.sqrt(test_MSE_loss)]\n",
    "mae_losses = [test_MAE_loss]\n",
    "\n",
    "for i in range(true_out.shape[1]):\n",
    "    min_ahead.append((i+1)*5)\n",
    "    rmse_losses.append(np.sqrt(mse_loss(pred_out[:, i], true_out[:, i]).item()))\n",
    "    mae_losses.append(mae_loss(pred_out[:, i], true_out[:, i]).item())\n",
    "\n",
    "loss_df = pd.DataFrame({\n",
    "    'Min Ahead': min_ahead,\n",
    "    'RMSE Loss': rmse_losses,\n",
    "    'MAE Loss': mae_losses\n",
    "})\n",
    "loss_df"
   ]
  },
  {
   "cell_type": "code",
   "execution_count": null,
   "metadata": {},
   "outputs": [],
   "source": [
    "idx = int((chosen_min_ahead/5) - 1)\n",
    "\n",
    "for sensor_id in range(n_nodes):\n",
    "    temp_true_out = true_out[sensor_id::n_nodes, idx]\n",
    "    temp_pred_out = pred_out[sensor_id::n_nodes, idx]\n",
    "    RMS_error = torch.sqrt(mse_loss(temp_pred_out, temp_true_out))\n",
    "    residuals = temp_true_out - temp_pred_out\n",
    "\n",
    "    fig, (ax1, ax2) = plt.subplots(1, 2, figsize=(20, 5))\n",
    "\n",
    "    ax1.plot(temp_true_out.detach().numpy(), label='True Output')\n",
    "    ax1.plot(temp_pred_out.detach().numpy(), label='Predicted Output')\n",
    "    ax1.legend()\n",
    "    ax1.set_xlabel('Time Sample Index')\n",
    "    ax1.set_ylabel('Output Value [miles/hr]')\n",
    "    ax1.set_title(f'True Output vs Predicted Output of Sensor#{sensor_id} on Test Set at {chosen_min_ahead} mins Ahead. \\n RMS_error={RMS_error:.2f} [miles/hr]')\n",
    "    ax1.grid(True)\n",
    "\n",
    "    ax2.plot(residuals.detach().numpy(), label='Residuals', color='red')\n",
    "    ax2.legend()\n",
    "    ax2.set_xlabel('Time Sample Index')\n",
    "    ax2.set_ylabel('Residual Value [miles/hr]')\n",
    "    ax2.set_title(f'Residuals of Sensor#{sensor_id} on Test Set')\n",
    "    ax2.grid(True)\n",
    "\n",
    "    plt.show()\n",
    "    "
   ]
  },
  {
   "cell_type": "code",
   "execution_count": null,
   "metadata": {},
   "outputs": [],
   "source": []
  },
  {
   "cell_type": "code",
   "execution_count": null,
   "metadata": {},
   "outputs": [],
   "source": []
  },
  {
   "cell_type": "code",
   "execution_count": null,
   "metadata": {},
   "outputs": [],
   "source": []
  },
  {
   "cell_type": "code",
   "execution_count": null,
   "metadata": {},
   "outputs": [],
   "source": []
  },
  {
   "cell_type": "code",
   "execution_count": null,
   "metadata": {},
   "outputs": [],
   "source": []
  }
 ],
 "metadata": {
  "kernelspec": {
   "display_name": "GNN_project",
   "language": "python",
   "name": "python3"
  },
  "language_info": {
   "codemirror_mode": {
    "name": "ipython",
    "version": 3
   },
   "file_extension": ".py",
   "mimetype": "text/x-python",
   "name": "python",
   "nbconvert_exporter": "python",
   "pygments_lexer": "ipython3",
   "version": "3.12.7"
  }
 },
 "nbformat": 4,
 "nbformat_minor": 2
}
